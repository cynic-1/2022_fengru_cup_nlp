{
 "cells": [
  {
   "cell_type": "code",
   "execution_count": null,
   "metadata": {
    "pycharm": {
     "is_executing": true
    }
   },
   "outputs": [],
   "source": [
    "'''\n",
    "    访问美国的https://www.electronicsweekly.com网站，分别对google news（数量较少）和本网站的进行爬取\n",
    "'''\n",
    "import requests\n",
    "import bs4\n",
    "import os\n",
    "import datetime\n",
    "import time\n",
    "import  xml.dom.minidom\n",
    "import re"
   ]
  },
  {
   "cell_type": "code",
   "execution_count": null,
   "metadata": {
    "pycharm": {
     "is_executing": true
    }
   },
   "outputs": [],
   "source": [
    "def getUrl(url):\n",
    "    '''\n",
    "        访问url的网页，获取网页内容并返回HTML内容。\n",
    "    '''\n",
    "    headers = {\n",
    "        'accept': 'text/html,application/xhtml+xml,application/xml;q=0.9,image/webp,image/apng,*/*;q=0.8',\n",
    "        'user-agent': 'Mozilla/5.0 (Windows NT 10.0; WOW64) AppleWebKit/537.36 (KHTML, like Gecko) Chrome/68.0.3440.106 Safari/537.36',\n",
    "        }\n",
    "    try:\n",
    "        r = requests.get(url,headers = headers)\n",
    "        r.raise_for_status()\n",
    "        r.encoding = r.apparent_encoding\n",
    "        return r.text\n",
    "    except:\n",
    "        print(url)\n",
    "        return \"exception!\""
   ]
  },
  {
   "cell_type": "code",
   "execution_count": null,
   "metadata": {
    "pycharm": {
     "is_executing": true
    }
   },
   "outputs": [],
   "source": [
    "def getUrlLink():\n",
    "    linkList = []\n",
    "    url = \"https://www.reuters.com/site-search/?query=%22China%22+%22chip%22&offset=0&sort=relevance\"\n",
    "    front = \"https://www.reuters.com/site-search/?query=%22China%22+%22chip%22&offset=\"\n",
    "    back = \"&sort=relevance\"\n",
    "    i = 0\n",
    "    while i < 10000:\n",
    "        url = front + str(i) + back\n",
    "        linkList.append(url)\n",
    "        i += 10\n",
    "    return linkList"
   ]
  },
  {
   "cell_type": "code",
   "execution_count": null,
   "metadata": {
    "pycharm": {
     "is_executing": true
    }
   },
   "outputs": [],
   "source": [
    "def getNewsUrl(url):\n",
    "    html = getUrl(url)\n",
    "    soup = bs4.BeautifulSoup(html,'html.parser')\n",
    "    items=soup.find_all('div',attrs={'class':'item-details'})\n",
    "    linkList=[]\n",
    "    for item in items:\n",
    "        link=item.find('a')['href']\n",
    "        linkList.append(link)\n",
    "    #print(linkList)\n",
    "    return linkList"
   ]
  },
  {
   "cell_type": "code",
   "execution_count": null,
   "metadata": {
    "pycharm": {
     "is_executing": true
    }
   },
   "outputs": [],
   "source": [
    "def getTitle(title):\n",
    "    title = title.replace(\":\",\".\")\n",
    "    title = title.replace(\"?\",\".\")\n",
    "    title = title.replace(\"/\",\".\")\n",
    "    title = title.replace(\"\\\\\",\".\")\n",
    "    title = title.replace(\"*\",\".\")  \n",
    "    title = title.replace(\"\\\"\",\".\")\n",
    "    title = title.replace(\"<\",\".\")\n",
    "    title = title.replace(\">\",\".\")\n",
    "    title = title.replace(\"|\",\".\")\n",
    "    return title"
   ]
  },
  {
   "cell_type": "code",
   "execution_count": null,
   "metadata": {
    "pycharm": {
     "is_executing": true
    }
   },
   "outputs": [],
   "source": [
    "def getContent(soup):\n",
    "    #article = soup.find('div',attrs = {'class':'post-inner'})\n",
    "    #item= article.find_all('p')\n",
    "    article = soup.find('div',attrs={'class':'td_block_wrap tdb_single_content tdi_149 td-pb-border-top td_block_template_1 td-post-content tagdiv-type'})\n",
    "    items = article.find_all('p')\n",
    "    ret = \"\"\n",
    "    for item in items:\n",
    "        ret = ret + item.get_text()\n",
    "    return ret"
   ]
  },
  {
   "cell_type": "code",
   "execution_count": null,
   "metadata": {
    "pycharm": {
     "is_executing": true
    }
   },
   "outputs": [],
   "source": [
    "def getDetail(url):\n",
    "    html = getUrl(url)\n",
    "    soup = bs4.BeautifulSoup(html,'html.parser')\n",
    "    \n",
    "    title = soup.find('h1',attrs={'class':'tdb-title-text'}).string\n",
    "    title = getTitle(title)   \n",
    "    \n",
    "    area=soup.find('div',attrs={'class':'td_block_wrap tdb_single_date tdi_146 td-pb-border-top td_block_template_1 tdb-post-meta'})\n",
    "    time = area.find('time',attrs={'class':'entry-date updated td-module-date'}).string\n",
    "    content = getContent(soup)\n",
    "    \n",
    "    infoList = []\n",
    "    infoList.append(title)\n",
    "    infoList.append(time)\n",
    "    infoList.append(content)\n",
    "    #print(infoList)\n",
    "    return infoList"
   ]
  },
  {
   "cell_type": "code",
   "execution_count": null,
   "metadata": {
    "pycharm": {
     "is_executing": true
    }
   },
   "outputs": [],
   "source": [
    "def saveFile(content,path,filename):\n",
    "    '''\n",
    "        将内容为content、名字为filename的文件保存在path中\n",
    "    '''\n",
    "    if not os.path.exists(path):\n",
    "        os.makedirs(path)\n",
    "    with open(path + filename,'w',encoding = 'utf-8') as f:\n",
    "        f.write(content)"
   ]
  },
  {
   "cell_type": "code",
   "execution_count": null,
   "metadata": {
    "pycharm": {
     "is_executing": true
    }
   },
   "outputs": [],
   "source": [
    "def download_news(infoList):\n",
    "    title = infoList[0]\n",
    "    time = infoList[1]\n",
    "    content = infoList[2]\n",
    "    filename = time + ' ' + title + '.txt'\n",
    "    path = \"C:/Users/song/All about learning/news\"\n",
    "    saveFile(content,path,filename)"
   ]
  },
  {
   "cell_type": "code",
   "execution_count": null,
   "metadata": {
    "pycharm": {
     "is_executing": true
    }
   },
   "outputs": [
    {
     "name": "stdout",
     "output_type": "stream",
     "text": [
      "1000\n"
     ]
    }
   ],
   "source": [
    "if __name__ == '__main__':    \n",
    "    linkList = getUrlLink() #从googlenews的xml文件获取所有文章列表\n",
    "    #print(linkList)\n",
    "    print(len(linkList))\n",
    "    num = 0\n",
    "    while num < len(linkList):\n",
    "        try:\n",
    "            url = linkList[num]\n",
    "            links = getNewsUrl(url)\n",
    "            #print(links)\n",
    "            for link in links:\n",
    "                infoList = getDetail(link)\n",
    "                download_news(infoList)\n",
    "                print(infoList[0])\n",
    "            # print(\"page \" + str(num))\n",
    "            num = num + 1\n",
    "        except:\n",
    "            print(\"error occurs\")\n",
    "            num = num + 1\n",
    "            pass\n",
    "            continue"
   ]
  },
  {
   "cell_type": "code",
   "execution_count": 1,
   "metadata": {
    "pycharm": {
     "is_executing": true,
     "name": "#%%\n"
    }
   },
   "outputs": [
    {
     "name": "stdout",
     "output_type": "stream",
     "text": [
      "fuck\n"
     ]
    }
   ],
   "source": [
    "print(\"fuck\")"
   ]
  },
  {
   "cell_type": "code",
   "execution_count": null,
   "metadata": {
    "pycharm": {
     "is_executing": true
    }
   },
   "outputs": [],
   "source": [
    "print(\"fuck\")"
   ]
  }
 ],
 "metadata": {
  "kernelspec": {
   "display_name": "Python 3 (ipykernel)",
   "language": "python",
   "name": "python3"
  },
  "language_info": {
   "codemirror_mode": {
    "name": "ipython",
    "version": 3
   },
   "file_extension": ".py",
   "mimetype": "text/x-python",
   "name": "python",
   "nbconvert_exporter": "python",
   "pygments_lexer": "ipython3",
   "version": "3.8.3"
  }
 },
 "nbformat": 4,
 "nbformat_minor": 2
}